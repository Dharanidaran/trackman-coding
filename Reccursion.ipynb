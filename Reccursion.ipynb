{
 "cells": [
  {
   "cell_type": "code",
   "execution_count": 1,
   "metadata": {},
   "outputs": [],
   "source": [
    "import json\n",
    "import re\n",
    "from asciitree import LeftAligned\n",
    "from collections import OrderedDict as OD\n"
   ]
  },
  {
   "cell_type": "code",
   "execution_count": 3,
   "metadata": {},
   "outputs": [],
   "source": [
    "def getTheFromClauseText(filepath):\n",
    "    fileObj = open(filepath)\n",
    "    config_dict = json.load(fileObj)\n",
    "    try:\n",
    "        # Fetch the from clause\n",
    "        from_text = config_dict[\"query\"][\"L\"][0][\"M\"][\"from\"][\"S\"] # For query with list\n",
    "    except:\n",
    "        try:\n",
    "            from_text = config_dict[\"query\"][\"M\"][\"from\"][\"S\"] # Single query without list\n",
    "        except:\n",
    "            # Do nothing if this fails too, and return from_text as None\n",
    "            pass\n",
    "    fileObj.close()\n",
    "\n",
    "def getTheFirstSource(from_text):\n",
    "    if from_text != None:\n",
    "        p = re.compile(r\"\"\"\n",
    "            (?P<starting>\\w+[.]\\w+) # Get the starting text    \n",
    "            \"\"\", re.VERBOSE)\n",
    "        m = p.search(self.from_text)\n",
    "        starting_source = m.group('starting')\n",
    "\n",
    "def getTheJoinTablesList(from_text):\n",
    "    if from_text !=None:\n",
    "        p = re.compile(r\"\"\"\n",
    "        join\\s+(?P<table>\\w+[.]\\w+)\n",
    "        \"\"\", re.VERBOSE)\n",
    "        joining_source = p.findall(from_text)\n",
    "\n",
    "def consolidateTableList():\n",
    "    tables_list.append(starting_source)\n",
    "    tables_list= tables_list + joining_source\n",
    "    \n",
    "    \n",
    "def \n"
   ]
  },
  {
   "cell_type": "code",
   "execution_count": null,
   "metadata": {},
   "outputs": [],
   "source": []
  }
 ],
 "metadata": {
  "kernelspec": {
   "display_name": "Python 3",
   "language": "python",
   "name": "python3"
  },
  "language_info": {
   "codemirror_mode": {
    "name": "ipython",
    "version": 3
   },
   "file_extension": ".py",
   "mimetype": "text/x-python",
   "name": "python",
   "nbconvert_exporter": "python",
   "pygments_lexer": "ipython3",
   "version": "3.6.8"
  }
 },
 "nbformat": 4,
 "nbformat_minor": 2
}
