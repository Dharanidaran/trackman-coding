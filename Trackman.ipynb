{
 "cells": [
  {
   "cell_type": "code",
   "execution_count": 1,
   "metadata": {},
   "outputs": [],
   "source": [
    "import json\n",
    "import re\n",
    "import os\n",
    "from graphviz import Graph\n"
   ]
  },
  {
   "cell_type": "markdown",
   "metadata": {},
   "source": [
    "### Listing the top 10 files in the directory tables"
   ]
  },
  {
   "cell_type": "code",
   "execution_count": 55,
   "metadata": {},
   "outputs": [],
   "source": [
    "dirpath = os.path.join( os.getcwd() , \"tables\")\n",
    "\n",
    "\n"
   ]
  },
  {
   "cell_type": "code",
   "execution_count": 56,
   "metadata": {},
   "outputs": [],
   "source": [
    "class ConstructGrantTree:\n",
    "    def __init__(self,grandTreeList):\n",
    "        self.treeDict = {}\n",
    "        self.branches = []\n",
    "        self.leaves = [] \n",
    "        self.allNodes = []\n",
    "        self.treeList = grandTreeList\n",
    "        self.parent_child_list=[]\n",
    "        self.rootNode = None\n",
    "        self.removeLeafNodes()\n",
    "        self.getParentChildList()       \n",
    "     \n",
    "    def getParentChildList(self):\n",
    "        for node in self.allNodes:\n",
    "            self.parent_child_list.append(self.getMyParent(node))\n",
    "        self.getRootNode()\n",
    "\n",
    "                    \n",
    "    def getRootNode(self):\n",
    "        for parent,item in self.parent_child_list:\n",
    "            if parent == None:\n",
    "                self.rootNode = item\n",
    "    \n",
    "    def removeLeafNodes(self):\n",
    "        for dictionary in self.treeList:\n",
    "            for key,values in dictionary.items():\n",
    "                if values:\n",
    "                    self.branches.append(key)\n",
    "                    self.allNodes.append(key)\n",
    "                else :\n",
    "                    self.leaves.append(key)\n",
    "                    self.allNodes.append(key)\n",
    "                    \n",
    "    def getMyParent(self,node):\n",
    "        parent = None\n",
    "        for dictionary in self.treeList:\n",
    "            for key,values in dictionary.items():\n",
    "                if node in values:\n",
    "                    parent = key\n",
    "        return (parent,node)\n",
    "    \n",
    "\n"
   ]
  },
  {
   "cell_type": "code",
   "execution_count": 57,
   "metadata": {},
   "outputs": [],
   "source": [
    "def encapsulate(filepath):\n",
    "    grandTreeList = []\n",
    "    # Encapsulate function is used as constructTreeList is a recursive func\n",
    "    # No global variables\n",
    "    def constructTreeList(filepath):\n",
    "        branches = createBranch(filepath) \n",
    "        for key,tables in branches.items():\n",
    "            for table in tables:\n",
    "                constructTreeList(getFilePath(table))\n",
    "        grandTreeList.append(branches)\n",
    "\n",
    "    # Call this function to construct the grandTreeList\n",
    "    constructTreeList(filepath)\n",
    "    return grandTreeList\n",
    "\n",
    "\n",
    "\n",
    "\n",
    "\n"
   ]
  },
  {
   "cell_type": "markdown",
   "metadata": {},
   "source": [
    "## Servo"
   ]
  },
  {
   "cell_type": "code",
   "execution_count": 66,
   "metadata": {},
   "outputs": [],
   "source": [
    "filepathList = []\n",
    "def createGraph(parent_child_list, outputFilepath):\n",
    "    g = Graph ('G',filename = outputFilepath)\n",
    "    \n",
    "    for parent,child in parent_child_list:\n",
    "        if parent == None:\n",
    "            pass # Ignore if its a root node\n",
    "        else:\n",
    "            g.edge(parent,child)\n",
    "    g.view()\n",
    "    \n",
    "def getOutputFilePath(filepath):\n",
    "    dirpath = os.path.dirname(os.path.dirname(filepath))\n",
    "    dirpath = os.path.join(dirpath,\"OutputImages\")\n",
    "    _,ext =  os.path.splitext(filepath)\n",
    "    filename = os.path.basename(filepath)\n",
    "    filepath = os.path.join(dirpath,filename)\n",
    "    return filepath\n",
    "    \n",
    "\n",
    "for file in os.listdir(path=dirpath):\n",
    "    filename,ext =  os.path.splitext(file)\n",
    "    if ext == \".json\":\n",
    "        filepath = os.path.join(dirpath,file)\n",
    "        filepathList.append(filepath)\n",
    "        \n",
    "\n",
    "        \n",
    "for filepath in filepathList:\n",
    "    grandTree = encapsulate(filepath) \n",
    "    outputFilepath = getOutputFilePath(filepath)\n",
    "    \n",
    "    tree = ConstructGrantTree(grandTree)\n",
    "    createGraph(tree.parent_child_list,outputFilepath)\n",
    "    "
   ]
  },
  {
   "cell_type": "code",
   "execution_count": null,
   "metadata": {},
   "outputs": [],
   "source": []
  }
 ],
 "metadata": {
  "kernelspec": {
   "display_name": "Python 3",
   "language": "python",
   "name": "python3"
  },
  "language_info": {
   "codemirror_mode": {
    "name": "ipython",
    "version": 3
   },
   "file_extension": ".py",
   "mimetype": "text/x-python",
   "name": "python",
   "nbconvert_exporter": "python",
   "pygments_lexer": "ipython3",
   "version": "3.6.8"
  }
 },
 "nbformat": 4,
 "nbformat_minor": 2
}
