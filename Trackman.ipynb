{
 "cells": [
  {
   "cell_type": "code",
   "execution_count": 293,
   "metadata": {},
   "outputs": [],
   "source": [
    "import json\n",
    "import re\n",
    "try:  \n",
    "    from asciitree import LeftAligned\n",
    "    from collections import OrderedDict as OD\n",
    "except ModuleNotFoundError:\n",
    "    print(\"Error -- Use the requirement.txt to install the dependencies\")"
   ]
  },
  {
   "cell_type": "markdown",
   "metadata": {},
   "source": [
    "### Listing the top 10 files in the directory tables"
   ]
  },
  {
   "cell_type": "code",
   "execution_count": 187,
   "metadata": {},
   "outputs": [
    {
     "name": "stdout",
     "output_type": "stream",
     "text": [
      "crosscheck.games\n",
      "crosscheck.calibration_maintenance\n",
      "crosscheck.tags\n",
      "games.metadata\n",
      "games.vision\n",
      "games.oem\n",
      "games.vision_oem\n",
      "games.autorecalibration\n",
      "games.latency\n",
      "games.live_final\n",
      "games.nulls\n",
      "locations.latency\n",
      "locations.vision_oem\n",
      "report.scheduled_no_exceptions_hist\n",
      "report.hardball_pitchers\n",
      "report.delivered_new_pk\n",
      "report.delivered_exceptions_hist\n",
      "report.verified_levels_18\n",
      "report.delivered_no_exceptions\n",
      "report.delivered_combined_hist\n",
      "report.practice_pitching\n",
      "report.false_delivered_hist\n",
      "report.mlb_orgs\n",
      "report.schedule_new_level\n",
      "report.scheduled_no_exceptions\n",
      "report.exp_access_rules_hist\n",
      "report.delivered_no_exceptions_hist\n",
      "report.scheduled_combined\n",
      "report.practice_pitching_dev\n",
      "report.exp_access_rules\n",
      "report.scheduled_exceptions\n",
      "rundown.access_rules_history\n",
      "rundown.location_history\n",
      "rundown.access_rules_rows\n",
      "rundown.location_history_rows\n",
      "scout.tags\n",
      "trout.app_angle\n"
     ]
    }
   ],
   "source": [
    "dirpath = os.path.join( os.getcwd() , \"tables\")\n",
    "files = os.listdir(path=dirpath)[:]\n",
    "\n",
    "schema_table= []\n",
    "for file in files:\n",
    "    schema_table.append ((file.split(\".\")[0],file.split(\".\")[1]))\n",
    "schema_table.sort(key=lambda x: x[0])\n",
    "    \n",
    "\n",
    "\n",
    "\n"
   ]
  },
  {
   "cell_type": "code",
   "execution_count": 464,
   "metadata": {},
   "outputs": [
    {
     "name": "stdout",
     "output_type": "stream",
     "text": [
      "report.practice_pitching_dev\n",
      " +-- practice.plays_dev\n",
      " +-- practice.games_dev\n"
     ]
    }
   ],
   "source": [
    "class CreateBranch:\n",
    "    def __init__(self,filepath):\n",
    "        self.parentNode = None\n",
    "        self.parentNodeList = []\n",
    "        self.from_text= None\n",
    "        self.tables_list = []\n",
    "        self.tree_dict = {}  \n",
    "        self.starting_source = None\n",
    "        self.joining_source= None\n",
    "        self.reached_leaf = False\n",
    "        \n",
    "        \n",
    "\n",
    "        self.getParentNode(filepath)\n",
    "        \n",
    "        if self.reached_leaf == False:\n",
    "            self.getTheFromClauseText(filepath)\n",
    "            self.getTheFirstSource()\n",
    "            self.getTheJoinTablesList()\n",
    "            self.consolidateTableList()\n",
    "        \n",
    "        self.construct_tree()\n",
    "        \n",
    "    def getParentNode(self,filepath):\n",
    "        file_exists = os.path.isfile(filepath)\n",
    "        self.parentNode = \".\".join(os.path.basename(filepath).split(\".\")[:-1])\n",
    "        if file_exists:\n",
    "            self.parentNodeList.append(self.parentNode)\n",
    "        else:\n",
    "            self.reached_leaf = True\n",
    "            \n",
    "        \n",
    "    \n",
    "    def construct_tree(self):\n",
    "        if self.reached_leaf == False:\n",
    "            \n",
    "            t_list=[]\n",
    "            for i in self.tables_list:\n",
    "                t_list.append((i,{}))\n",
    "            self.tree_dict[self.parentNode] = OD(t_list)\n",
    "        else:\n",
    "            self.tree_dict[self.parentNode] = {}\n",
    "#             pass\n",
    "        tr = LeftAligned()\n",
    "        print(tr(self.tree_dict))\n",
    "    \n",
    "    \n",
    "    def getTheFromClauseText(self,filepath):\n",
    "        try:\n",
    "            fileObj = open(filepath)\n",
    "            config_dict = json.load(fileObj)\n",
    "            try:\n",
    "                # Fetch the from clause\n",
    "                self.from_text = config_dict[\"query\"][\"L\"][0][\"M\"][\"from\"][\"S\"] # For query with list\n",
    "            except:\n",
    "                try:\n",
    "                    self.from_text = config_dict[\"query\"][\"M\"][\"from\"][\"S\"] # Single query without list\n",
    "                except:\n",
    "                    # Do nothing if this fails too, and return from_text as None\n",
    "                    pass\n",
    "            fileObj.close()\n",
    "        except FileNotFoundError:\n",
    "            return None\n",
    "        \n",
    "    def getTheFirstSource(self):\n",
    "        \n",
    "        if self.from_text != None:\n",
    "\n",
    "            p = re.compile(r\"\"\"\n",
    "                (?P<starting>\\w+[.]\\w+) # Get the starting text    \n",
    "                \"\"\", re.VERBOSE)\n",
    "            \n",
    "            m = p.search(self.from_text)\n",
    "            self.starting_source = m.group('starting')\n",
    "            \n",
    "    def getTheJoinTablesList(self):\n",
    "        if self.from_text !=None:\n",
    "            p = re.compile(r\"\"\"\n",
    "            join\\s+(?P<table>\\w+[.]\\w+)\n",
    "            \"\"\", re.VERBOSE)\n",
    "            self.joining_source = p.findall(self.from_text)\n",
    "            \n",
    "    def consolidateTableList(self):\n",
    "        self.tables_list.append(self.starting_source)\n",
    "        self.tables_list= self.tables_list + self.joining_source\n",
    "        \n",
    "            \n",
    "filepath = os.path.join(dirpath,'report.practice_pitching_dev.json')\n",
    "# filepath = os.path.join(dirpath,'scout.teams.json')\n",
    "c = CreateBranch(filepath)\n"
   ]
  },
  {
   "cell_type": "code",
   "execution_count": 434,
   "metadata": {},
   "outputs": [
    {
     "data": {
      "text/plain": [
       "{'report.practice_pitching_dev': OrderedDict([('practice.plays_dev', {}),\n",
       "              ('practice.games_dev', {})])}"
      ]
     },
     "execution_count": 434,
     "metadata": {},
     "output_type": "execute_result"
    }
   ],
   "source": [
    "c.tree_dict"
   ]
  },
  {
   "cell_type": "code",
   "execution_count": 435,
   "metadata": {},
   "outputs": [
    {
     "data": {
      "text/plain": [
       "['practice.plays_dev', 'practice.games_dev']"
      ]
     },
     "execution_count": 435,
     "metadata": {},
     "output_type": "execute_result"
    }
   ],
   "source": [
    "c.tables_list"
   ]
  },
  {
   "cell_type": "code",
   "execution_count": 436,
   "metadata": {},
   "outputs": [
    {
     "data": {
      "text/plain": [
       "'report.practice_pitching_dev'"
      ]
     },
     "execution_count": 436,
     "metadata": {},
     "output_type": "execute_result"
    }
   ],
   "source": [
    "c.parentNode"
   ]
  },
  {
   "cell_type": "code",
   "execution_count": 437,
   "metadata": {},
   "outputs": [
    {
     "data": {
      "text/plain": [
       "['report.practice_pitching_dev']"
      ]
     },
     "execution_count": 437,
     "metadata": {},
     "output_type": "execute_result"
    }
   ],
   "source": [
    "c.parentNodeList"
   ]
  },
  {
   "cell_type": "code",
   "execution_count": 468,
   "metadata": {},
   "outputs": [
    {
     "name": "stdout",
     "output_type": "stream",
     "text": [
      "games.oem\n",
      " +-- radar.measurement\n",
      " +-- radar.live_pitch_data\n",
      " +-- crosscheck.tags\n",
      "radar.measurement\n",
      "radar.live_pitch_data\n",
      "crosscheck.tags\n",
      " +-- scout.tags\n",
      " +-- base.games\n",
      "scout.tags\n",
      " +-- base.tags\n",
      " +-- dict.player_dedup\n",
      "base.tags\n",
      "dict.player_dedup\n",
      "dict.player_dedup\n",
      "base.games\n"
     ]
    }
   ],
   "source": [
    "def getFilepath (filename):\n",
    "    filepath = os.path.join(dirpath,filename+\".json\")\n",
    "    return filepath\n",
    "\n",
    "filepath = os.path.join(dirpath,'games.oem.json')\n",
    "\n",
    "treeDict = {}\n",
    "\n",
    "\n",
    "def recursiveFunction(filepath):\n",
    "    tempObj = CreateBranch(filepath)\n",
    "    if tempObj.reached_leaf == False:\n",
    "        for item in tempObj.tables_list:\n",
    "            recursiveFunction(getFilepath(item))\n",
    "    else:\n",
    "        pass\n",
    "    \n",
    "\n",
    "recursiveFunction(filepath)"
   ]
  },
  {
   "cell_type": "code",
   "execution_count": null,
   "metadata": {},
   "outputs": [],
   "source": []
  },
  {
   "cell_type": "code",
   "execution_count": null,
   "metadata": {},
   "outputs": [],
   "source": []
  }
 ],
 "metadata": {
  "kernelspec": {
   "display_name": "Python 3",
   "language": "python",
   "name": "python3"
  },
  "language_info": {
   "codemirror_mode": {
    "name": "ipython",
    "version": 3
   },
   "file_extension": ".py",
   "mimetype": "text/x-python",
   "name": "python",
   "nbconvert_exporter": "python",
   "pygments_lexer": "ipython3",
   "version": "3.6.8"
  }
 },
 "nbformat": 4,
 "nbformat_minor": 2
}
