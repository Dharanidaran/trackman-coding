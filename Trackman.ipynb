{
 "cells": [
  {
   "cell_type": "code",
   "execution_count": 1,
   "metadata": {},
   "outputs": [],
   "source": [
    "import json\n",
    "import re\n",
    "import os\n",
    "from graphviz import Graph\n"
   ]
  },
  {
   "cell_type": "markdown",
   "metadata": {},
   "source": [
    "### Listing the top 10 files in the directory tables"
   ]
  },
  {
   "cell_type": "code",
   "execution_count": 11,
   "metadata": {},
   "outputs": [],
   "source": [
    "dirpath = os.path.join( os.getcwd() , \"tables\")\n",
    "# files = os.listdir(path=dirpath)[:]\n",
    "\n",
    "# schema_table= []\n",
    "# for file in files:\n",
    "#     schema_table.append ((file.split(\".\")[0],file.split(\".\")[1]))\n",
    "# schema_table.sort(key=lambda x: x[0])\n",
    "    \n",
    "\n",
    "# for item in schema_table:\n",
    "#     print(item)\n",
    "\n"
   ]
  },
  {
   "cell_type": "code",
   "execution_count": 12,
   "metadata": {},
   "outputs": [],
   "source": [
    "# def getParentNode(filepath):\n",
    "#     parentNode = \".\".join(os.path.basename(filepath).split(\".\")[:-1])\n",
    "#     return parentNode\n",
    "\n",
    "# def getTheFromClauseText(filepath):\n",
    "#     from_text = \"\"\n",
    "#     try:\n",
    "#         fileObj = open(filepath)\n",
    "#         config_dict = json.load(fileObj)\n",
    "#         try:\n",
    "#             # Fetch the from clause\n",
    "#             from_text = config_dict[\"query\"][\"L\"][0][\"M\"][\"from\"][\"S\"] # For query with list\n",
    "#             return from_text\n",
    "#         except:\n",
    "#             try:\n",
    "#                 from_text = config_dict[\"query\"][\"M\"][\"from\"][\"S\"] # Single query without list\n",
    "#                 return from_text\n",
    "#             except:\n",
    "#                 # Do nothing if this fails too, and return from_text as None\n",
    "#                 return from_text \n",
    "#         fileObj.close()\n",
    "#     except FileNotFoundError:\n",
    "#         return None\n",
    "#     except:\n",
    "#         return None\n",
    "\n",
    "# def getTheFirstSource(from_text):\n",
    "#     if from_text:\n",
    "#         p = re.compile(r\"\"\"\n",
    "#             (?P<starting>\\w+[.]\\w+) # Get the starting text    \n",
    "#             \"\"\", re.VERBOSE)\n",
    "\n",
    "#         m = p.search(from_text)\n",
    "#         starting_source = m.group('starting')\n",
    "#         return starting_source\n",
    "\n",
    "# def getTheJoinTablesList(from_text):\n",
    "#     joining_source =[]\n",
    "#     if from_text:\n",
    "#         p = re.compile(r\"\"\"\n",
    "#         join\\s+(?P<table>\\w+[.]\\w+)\n",
    "#         \"\"\", re.VERBOSE)\n",
    "#         joining_source = p.findall(from_text) \n",
    "        \n",
    "#         return joining_source\n",
    "#     else:\n",
    "#         return joining_source\n",
    "    \n",
    "            \n",
    "# def getTableList(from_text):\n",
    "#     table_list = []\n",
    "#     starting_source = getTheFirstSource(from_text)\n",
    "#     joining_source = getTheJoinTablesList(from_text)\n",
    "    \n",
    "    \n",
    "#     if starting_source:\n",
    "#         table_list.append(starting_source)\n",
    "#         table_list = table_list + joining_source\n",
    "#     return table_list\n",
    "\n",
    "\n",
    "# def consolidateTableList(filepath):\n",
    "#     tables_list = []\n",
    "#     from_text = getTheFromClauseText(filepath)\n",
    "#     table_list = getTableList(from_text)\n",
    "\n",
    "#     return table_list\n",
    "\n",
    "# def createBranch(filepath):\n",
    "#     parentNode = getParentNode(filepath)\n",
    "#     table_list = list(dict.fromkeys(consolidateTableList(filepath))) #Prevent duplicates like self join or inner join\n",
    "#     tree = {}\n",
    "#     if not table_list:\n",
    "#         tree[parentNode] = []\n",
    "#     else:\n",
    "#         tree[parentNode] = table_list  \n",
    "#     return tree\n",
    "\n",
    "# def fileExists(filename):\n",
    "#     filepath = os.path.join(dirpath,filename+\".json\")\n",
    "#     return os.path.isfile(filepath)\n",
    "\n",
    "# def getFilePath(filename):\n",
    "#     filepath = os.path.join(dirpath,filename+\".json\")\n",
    "#     return filepath\n",
    "            \n",
    "\n"
   ]
  },
  {
   "cell_type": "code",
   "execution_count": 13,
   "metadata": {},
   "outputs": [],
   "source": [
    "filepath = os.path.join(dirpath,'report.mlb_orgs.json')\n",
    "# filepath = os.path.join(dirpath,'scout.teams.json')\n",
    "# filepath = os.path.join(dirpath,'crosscheck.tags.json')\n",
    "filepath = os.path.join(dirpath,'report.delivered_exceptions_hist.json')\n",
    "\n",
    "# branches = createBranch(filepath)\n",
    "# print(branches)\n"
   ]
  },
  {
   "cell_type": "code",
   "execution_count": 14,
   "metadata": {},
   "outputs": [
    {
     "name": "stdout",
     "output_type": "stream",
     "text": [
      "{'broadcast.delivered_games': []}\n",
      "{'report.delivered_new_pk': ['broadcast.delivered_games']}\n",
      "{'base.games': []}\n",
      "{'rundown.access_rules_end': []}\n",
      "{'broadcast.priority_lists': []}\n",
      "{'report.exp_access_rules_hist': ['rundown.access_rules_end', 'broadcast.priority_lists']}\n",
      "{'report.delivered_exceptions_hist': ['report.delivered_new_pk', 'base.games', 'report.exp_access_rules_hist']}\n"
     ]
    }
   ],
   "source": [
    "grandTreeList = []\n",
    "\n",
    "def constructTreeList(filepath):\n",
    "    branches = createBranch(filepath)\n",
    "    \n",
    "    for key,tables in branches.items():\n",
    "        for table in tables:\n",
    "            constructTreeList(getFilePath(table))\n",
    "    grandTreeList.append(branches)\n",
    "constructTreeList(filepath)\n",
    "\n",
    "\n",
    "\n",
    "for item in grandTreeList:\n",
    "    print(item)\n",
    "\n",
    "\n",
    "        "
   ]
  },
  {
   "cell_type": "code",
   "execution_count": 7,
   "metadata": {},
   "outputs": [
    {
     "name": "stdout",
     "output_type": "stream",
     "text": [
      "report.delivered_new_pk broadcast.delivered_games\n",
      "report.delivered_exceptions_hist report.delivered_new_pk\n",
      "report.delivered_exceptions_hist base.games\n",
      "report.exp_access_rules_hist rundown.access_rules_end\n",
      "report.exp_access_rules_hist broadcast.priority_lists\n",
      "report.delivered_exceptions_hist report.exp_access_rules_hist\n",
      "None report.delivered_exceptions_hist\n",
      "[('report.delivered_new_pk', 'broadcast.delivered_games'), ('report.delivered_exceptions_hist', 'report.delivered_new_pk'), ('report.delivered_exceptions_hist', 'base.games'), ('report.exp_access_rules_hist', 'rundown.access_rules_end'), ('report.exp_access_rules_hist', 'broadcast.priority_lists'), ('report.delivered_exceptions_hist', 'report.exp_access_rules_hist'), (None, 'report.delivered_exceptions_hist')]\n"
     ]
    }
   ],
   "source": [
    "class ConstructGrantTree:\n",
    "    def __init__(self,grandTreeList):\n",
    "        self.treeDict = {}\n",
    "        self.branches = []\n",
    "        self.leaves = [] \n",
    "        self.allNodes = []\n",
    "        self.treeList = grandTreeList\n",
    "        self.parent_child_list=[]\n",
    "        self.rootNode = None\n",
    "        self.removeLeafNodes()\n",
    "        self.getParentChildList()       \n",
    "     \n",
    "    def getParentChildList(self):\n",
    "        for node in self.allNodes:\n",
    "            self.parent_child_list.append(self.getMyParent(node))\n",
    "        self.getRootNode()\n",
    "        \n",
    "        for parent,item in self.parent_child_list:\n",
    "            print(parent,item)\n",
    "                    \n",
    "    def getRootNode(self):\n",
    "        for parent,item in self.parent_child_list:\n",
    "            if parent == None:\n",
    "                self.rootNode = item\n",
    "    \n",
    "    def removeLeafNodes(self):\n",
    "        for dictionary in self.treeList:\n",
    "            for key,values in dictionary.items():\n",
    "                if values:\n",
    "                    self.branches.append(key)\n",
    "                    self.allNodes.append(key)\n",
    "                else :\n",
    "                    self.leaves.append(key)\n",
    "                    self.allNodes.append(key)\n",
    "                    \n",
    "    def getMyParent(self,node):\n",
    "        parent = None\n",
    "        for dictionary in self.treeList:\n",
    "            for key,values in dictionary.items():\n",
    "                if node in values:\n",
    "                    parent = key\n",
    "        return (parent,node)\n",
    "    \n",
    "tree = ConstructGrantTree(grandTreeList)\n",
    "print(tree.parent_child_list)\n"
   ]
  },
  {
   "cell_type": "code",
   "execution_count": 8,
   "metadata": {},
   "outputs": [],
   "source": [
    "compound = (\n",
    "    ('report.delivered_new_pk', 'broadcast.delivered_games'),\n",
    "    ('report.delivered_exceptions_hist', 'report.delivered_new_pk'),\n",
    "    ('report.delivered_exceptions_hist', 'base.games'),\n",
    "    ('report.exp_access_rules_hist', 'rundown.access_rules_end'),\n",
    "    ('report.exp_access_rules_hist', 'broadcast.priority_lists'),\n",
    "    ('report.delivered_exceptions_hist', 'report.exp_access_rules_hist'),\n",
    "    (None, 'report.delivered_exceptions_hist'),\n",
    "    )\n",
    "allNodes = ['broadcast.delivered_games', 'report.delivered_new_pk', 'base.games', 'rundown.access_rules_end', 'broadcast.priority_lists', 'report.exp_access_rules_hist', 'report.delivered_exceptions_hist']\n"
   ]
  },
  {
   "cell_type": "code",
   "execution_count": 9,
   "metadata": {},
   "outputs": [
    {
     "data": {
      "text/plain": [
       "(('report.delivered_new_pk', 'broadcast.delivered_games'),\n",
       " ('report.delivered_exceptions_hist', 'report.delivered_new_pk'),\n",
       " ('report.delivered_exceptions_hist', 'base.games'),\n",
       " ('report.exp_access_rules_hist', 'rundown.access_rules_end'),\n",
       " ('report.exp_access_rules_hist', 'broadcast.priority_lists'),\n",
       " ('report.delivered_exceptions_hist', 'report.exp_access_rules_hist'),\n",
       " (None, 'report.delivered_exceptions_hist'))"
      ]
     },
     "execution_count": 9,
     "metadata": {},
     "output_type": "execute_result"
    }
   ],
   "source": [
    "compound"
   ]
  },
  {
   "cell_type": "code",
   "execution_count": 10,
   "metadata": {},
   "outputs": [
    {
     "ename": "SyntaxError",
     "evalue": "invalid syntax (<ipython-input-10-ffdcca2327b4>, line 3)",
     "output_type": "error",
     "traceback": [
      "\u001b[0;36m  File \u001b[0;32m\"<ipython-input-10-ffdcca2327b4>\"\u001b[0;36m, line \u001b[0;32m3\u001b[0m\n\u001b[0;31m    getAllMyChildren(currentNode):\u001b[0m\n\u001b[0m                                  ^\u001b[0m\n\u001b[0;31mSyntaxError\u001b[0m\u001b[0;31m:\u001b[0m invalid syntax\n"
     ]
    }
   ],
   "source": [
    "rootDict = {}\n",
    "rootNode = 'report.delivered_exceptions_hist'\n",
    "getAllMyChildren(currentNode):\n"
   ]
  },
  {
   "cell_type": "code",
   "execution_count": null,
   "metadata": {},
   "outputs": [],
   "source": []
  },
  {
   "cell_type": "code",
   "execution_count": null,
   "metadata": {},
   "outputs": [],
   "source": [
    "allNodes"
   ]
  },
  {
   "cell_type": "code",
   "execution_count": null,
   "metadata": {},
   "outputs": [],
   "source": []
  }
 ],
 "metadata": {
  "kernelspec": {
   "display_name": "Python 3",
   "language": "python",
   "name": "python3"
  },
  "language_info": {
   "codemirror_mode": {
    "name": "ipython",
    "version": 3
   },
   "file_extension": ".py",
   "mimetype": "text/x-python",
   "name": "python",
   "nbconvert_exporter": "python",
   "pygments_lexer": "ipython3",
   "version": "3.6.8"
  }
 },
 "nbformat": 4,
 "nbformat_minor": 2
}
