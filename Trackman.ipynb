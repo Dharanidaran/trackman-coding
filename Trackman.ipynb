{
 "cells": [
  {
   "cell_type": "code",
   "execution_count": 1,
   "metadata": {},
   "outputs": [],
   "source": [
    "import json\n",
    "import re\n",
    "import os\n",
    "from graphviz import Graph\n"
   ]
  },
  {
   "cell_type": "markdown",
   "metadata": {},
   "source": [
    "### Listing the top 10 files in the directory tables"
   ]
  },
  {
   "cell_type": "code",
   "execution_count": 11,
   "metadata": {},
   "outputs": [],
   "source": [
    "dirpath = os.path.join( os.getcwd() , \"tables\")\n",
    "filepath = os.path.join(dirpath,'report.mlb_orgs.json')\n",
    "\n"
   ]
  },
  {
   "cell_type": "code",
   "execution_count": 22,
   "metadata": {},
   "outputs": [],
   "source": [
    "class ConstructGrantTree:\n",
    "    def __init__(self,grandTreeList):\n",
    "        self.treeDict = {}\n",
    "        self.branches = []\n",
    "        self.leaves = [] \n",
    "        self.allNodes = []\n",
    "        self.treeList = grandTreeList\n",
    "        self.parent_child_list=[]\n",
    "        self.rootNode = None\n",
    "        self.removeLeafNodes()\n",
    "        self.getParentChildList()       \n",
    "     \n",
    "    def getParentChildList(self):\n",
    "        for node in self.allNodes:\n",
    "            self.parent_child_list.append(self.getMyParent(node))\n",
    "        self.getRootNode()\n",
    "\n",
    "                    \n",
    "    def getRootNode(self):\n",
    "        for parent,item in self.parent_child_list:\n",
    "            if parent == None:\n",
    "                self.rootNode = item\n",
    "    \n",
    "    def removeLeafNodes(self):\n",
    "        for dictionary in self.treeList:\n",
    "            for key,values in dictionary.items():\n",
    "                if values:\n",
    "                    self.branches.append(key)\n",
    "                    self.allNodes.append(key)\n",
    "                else :\n",
    "                    self.leaves.append(key)\n",
    "                    self.allNodes.append(key)\n",
    "                    \n",
    "    def getMyParent(self,node):\n",
    "        parent = None\n",
    "        for dictionary in self.treeList:\n",
    "            for key,values in dictionary.items():\n",
    "                if node in values:\n",
    "                    parent = key\n",
    "        return (parent,node)\n",
    "    \n",
    "\n"
   ]
  },
  {
   "cell_type": "code",
   "execution_count": 31,
   "metadata": {},
   "outputs": [],
   "source": [
    "def encapsulate(filepath):\n",
    "    grandTreeList = []\n",
    "    # Encapsulate function is used as constructTreeList is a recursive func\n",
    "    # No global variables\n",
    "    def constructTreeList(filepath):\n",
    "        branches = createBranch(filepath) \n",
    "        for key,tables in branches.items():\n",
    "            for table in tables:\n",
    "                constructTreeList(getFilePath(table))\n",
    "        grandTreeList.append(branches)\n",
    "\n",
    "    # Call this function to construct the grandTreeList\n",
    "    constructTreeList(filepath)\n",
    "    return grandTreeList\n",
    "\n",
    "\n",
    "\n",
    "\n",
    "\n"
   ]
  },
  {
   "cell_type": "code",
   "execution_count": 42,
   "metadata": {},
   "outputs": [
    {
     "name": "stdout",
     "output_type": "stream",
     "text": [
      "[('report.delivered_new_pk', 'broadcast.delivered_games'), ('report.delivered_exceptions_hist', 'report.delivered_new_pk'), ('report.delivered_exceptions_hist', 'base.games'), ('report.exp_access_rules_hist', 'rundown.access_rules_end'), ('report.exp_access_rules_hist', 'broadcast.priority_lists'), ('report.delivered_exceptions_hist', 'report.exp_access_rules_hist'), (None, 'report.delivered_exceptions_hist')]\n",
      "[('report.delivered_new_pk', 'broadcast.delivered_games'), ('report.delivered_exceptions_hist', 'report.delivered_new_pk'), ('report.delivered_exceptions_hist', 'base.games'), ('report.exp_access_rules_hist', 'rundown.access_rules_end'), ('report.exp_access_rules_hist', 'broadcast.priority_lists'), ('report.delivered_exceptions_hist', 'report.exp_access_rules_hist'), (None, 'report.delivered_exceptions_hist')]\n",
      "[('report.delivered_new_pk', 'broadcast.delivered_games'), ('report.delivered_exceptions_hist', 'report.delivered_new_pk'), ('report.delivered_exceptions_hist', 'base.games'), ('report.exp_access_rules_hist', 'rundown.access_rules_end'), ('report.exp_access_rules_hist', 'broadcast.priority_lists'), ('report.delivered_exceptions_hist', 'report.exp_access_rules_hist'), (None, 'report.delivered_exceptions_hist')]\n",
      "[('report.delivered_new_pk', 'broadcast.delivered_games'), ('report.delivered_exceptions_hist', 'report.delivered_new_pk'), ('report.delivered_exceptions_hist', 'base.games'), ('report.exp_access_rules_hist', 'rundown.access_rules_end'), ('report.exp_access_rules_hist', 'broadcast.priority_lists'), ('report.delivered_exceptions_hist', 'report.exp_access_rules_hist'), (None, 'report.delivered_exceptions_hist')]\n",
      "[('report.delivered_new_pk', 'broadcast.delivered_games'), ('report.delivered_exceptions_hist', 'report.delivered_new_pk'), ('report.delivered_exceptions_hist', 'base.games'), ('report.exp_access_rules_hist', 'rundown.access_rules_end'), ('report.exp_access_rules_hist', 'broadcast.priority_lists'), ('report.delivered_exceptions_hist', 'report.exp_access_rules_hist'), (None, 'report.delivered_exceptions_hist')]\n",
      "[('report.delivered_new_pk', 'broadcast.delivered_games'), ('report.delivered_exceptions_hist', 'report.delivered_new_pk'), ('report.delivered_exceptions_hist', 'base.games'), ('report.exp_access_rules_hist', 'rundown.access_rules_end'), ('report.exp_access_rules_hist', 'broadcast.priority_lists'), ('report.delivered_exceptions_hist', 'report.exp_access_rules_hist'), (None, 'report.delivered_exceptions_hist')]\n",
      "[('report.delivered_new_pk', 'broadcast.delivered_games'), ('report.delivered_exceptions_hist', 'report.delivered_new_pk'), ('report.delivered_exceptions_hist', 'base.games'), ('report.exp_access_rules_hist', 'rundown.access_rules_end'), ('report.exp_access_rules_hist', 'broadcast.priority_lists'), ('report.delivered_exceptions_hist', 'report.exp_access_rules_hist'), (None, 'report.delivered_exceptions_hist')]\n",
      "[('report.delivered_new_pk', 'broadcast.delivered_games'), ('report.delivered_exceptions_hist', 'report.delivered_new_pk'), ('report.delivered_exceptions_hist', 'base.games'), ('report.exp_access_rules_hist', 'rundown.access_rules_end'), ('report.exp_access_rules_hist', 'broadcast.priority_lists'), ('report.delivered_exceptions_hist', 'report.exp_access_rules_hist'), (None, 'report.delivered_exceptions_hist')]\n",
      "[('report.delivered_new_pk', 'broadcast.delivered_games'), ('report.delivered_exceptions_hist', 'report.delivered_new_pk'), ('report.delivered_exceptions_hist', 'base.games'), ('report.exp_access_rules_hist', 'rundown.access_rules_end'), ('report.exp_access_rules_hist', 'broadcast.priority_lists'), ('report.delivered_exceptions_hist', 'report.exp_access_rules_hist'), (None, 'report.delivered_exceptions_hist')]\n",
      "[('report.delivered_new_pk', 'broadcast.delivered_games'), ('report.delivered_exceptions_hist', 'report.delivered_new_pk'), ('report.delivered_exceptions_hist', 'base.games'), ('report.exp_access_rules_hist', 'rundown.access_rules_end'), ('report.exp_access_rules_hist', 'broadcast.priority_lists'), ('report.delivered_exceptions_hist', 'report.exp_access_rules_hist'), (None, 'report.delivered_exceptions_hist')]\n",
      "[('report.delivered_new_pk', 'broadcast.delivered_games'), ('report.delivered_exceptions_hist', 'report.delivered_new_pk'), ('report.delivered_exceptions_hist', 'base.games'), ('report.exp_access_rules_hist', 'rundown.access_rules_end'), ('report.exp_access_rules_hist', 'broadcast.priority_lists'), ('report.delivered_exceptions_hist', 'report.exp_access_rules_hist'), (None, 'report.delivered_exceptions_hist')]\n",
      "[('report.delivered_new_pk', 'broadcast.delivered_games'), ('report.delivered_exceptions_hist', 'report.delivered_new_pk'), ('report.delivered_exceptions_hist', 'base.games'), ('report.exp_access_rules_hist', 'rundown.access_rules_end'), ('report.exp_access_rules_hist', 'broadcast.priority_lists'), ('report.delivered_exceptions_hist', 'report.exp_access_rules_hist'), (None, 'report.delivered_exceptions_hist')]\n",
      "[('report.delivered_new_pk', 'broadcast.delivered_games'), ('report.delivered_exceptions_hist', 'report.delivered_new_pk'), ('report.delivered_exceptions_hist', 'base.games'), ('report.exp_access_rules_hist', 'rundown.access_rules_end'), ('report.exp_access_rules_hist', 'broadcast.priority_lists'), ('report.delivered_exceptions_hist', 'report.exp_access_rules_hist'), (None, 'report.delivered_exceptions_hist')]\n",
      "[('report.delivered_new_pk', 'broadcast.delivered_games'), ('report.delivered_exceptions_hist', 'report.delivered_new_pk'), ('report.delivered_exceptions_hist', 'base.games'), ('report.exp_access_rules_hist', 'rundown.access_rules_end'), ('report.exp_access_rules_hist', 'broadcast.priority_lists'), ('report.delivered_exceptions_hist', 'report.exp_access_rules_hist'), (None, 'report.delivered_exceptions_hist')]\n",
      "[('report.delivered_new_pk', 'broadcast.delivered_games'), ('report.delivered_exceptions_hist', 'report.delivered_new_pk'), ('report.delivered_exceptions_hist', 'base.games'), ('report.exp_access_rules_hist', 'rundown.access_rules_end'), ('report.exp_access_rules_hist', 'broadcast.priority_lists'), ('report.delivered_exceptions_hist', 'report.exp_access_rules_hist'), (None, 'report.delivered_exceptions_hist')]\n",
      "[('report.delivered_new_pk', 'broadcast.delivered_games'), ('report.delivered_exceptions_hist', 'report.delivered_new_pk'), ('report.delivered_exceptions_hist', 'base.games'), ('report.exp_access_rules_hist', 'rundown.access_rules_end'), ('report.exp_access_rules_hist', 'broadcast.priority_lists'), ('report.delivered_exceptions_hist', 'report.exp_access_rules_hist'), (None, 'report.delivered_exceptions_hist')]\n",
      "[('report.delivered_new_pk', 'broadcast.delivered_games'), ('report.delivered_exceptions_hist', 'report.delivered_new_pk'), ('report.delivered_exceptions_hist', 'base.games'), ('report.exp_access_rules_hist', 'rundown.access_rules_end'), ('report.exp_access_rules_hist', 'broadcast.priority_lists'), ('report.delivered_exceptions_hist', 'report.exp_access_rules_hist'), (None, 'report.delivered_exceptions_hist')]\n",
      "[('report.delivered_new_pk', 'broadcast.delivered_games'), ('report.delivered_exceptions_hist', 'report.delivered_new_pk'), ('report.delivered_exceptions_hist', 'base.games'), ('report.exp_access_rules_hist', 'rundown.access_rules_end'), ('report.exp_access_rules_hist', 'broadcast.priority_lists'), ('report.delivered_exceptions_hist', 'report.exp_access_rules_hist'), (None, 'report.delivered_exceptions_hist')]\n",
      "[('report.delivered_new_pk', 'broadcast.delivered_games'), ('report.delivered_exceptions_hist', 'report.delivered_new_pk'), ('report.delivered_exceptions_hist', 'base.games'), ('report.exp_access_rules_hist', 'rundown.access_rules_end'), ('report.exp_access_rules_hist', 'broadcast.priority_lists'), ('report.delivered_exceptions_hist', 'report.exp_access_rules_hist'), (None, 'report.delivered_exceptions_hist')]\n",
      "[('report.delivered_new_pk', 'broadcast.delivered_games'), ('report.delivered_exceptions_hist', 'report.delivered_new_pk'), ('report.delivered_exceptions_hist', 'base.games'), ('report.exp_access_rules_hist', 'rundown.access_rules_end'), ('report.exp_access_rules_hist', 'broadcast.priority_lists'), ('report.delivered_exceptions_hist', 'report.exp_access_rules_hist'), (None, 'report.delivered_exceptions_hist')]\n",
      "[('report.delivered_new_pk', 'broadcast.delivered_games'), ('report.delivered_exceptions_hist', 'report.delivered_new_pk'), ('report.delivered_exceptions_hist', 'base.games'), ('report.exp_access_rules_hist', 'rundown.access_rules_end'), ('report.exp_access_rules_hist', 'broadcast.priority_lists'), ('report.delivered_exceptions_hist', 'report.exp_access_rules_hist'), (None, 'report.delivered_exceptions_hist')]\n",
      "[('report.delivered_new_pk', 'broadcast.delivered_games'), ('report.delivered_exceptions_hist', 'report.delivered_new_pk'), ('report.delivered_exceptions_hist', 'base.games'), ('report.exp_access_rules_hist', 'rundown.access_rules_end'), ('report.exp_access_rules_hist', 'broadcast.priority_lists'), ('report.delivered_exceptions_hist', 'report.exp_access_rules_hist'), (None, 'report.delivered_exceptions_hist')]\n",
      "[('report.delivered_new_pk', 'broadcast.delivered_games'), ('report.delivered_exceptions_hist', 'report.delivered_new_pk'), ('report.delivered_exceptions_hist', 'base.games'), ('report.exp_access_rules_hist', 'rundown.access_rules_end'), ('report.exp_access_rules_hist', 'broadcast.priority_lists'), ('report.delivered_exceptions_hist', 'report.exp_access_rules_hist'), (None, 'report.delivered_exceptions_hist')]\n",
      "[('report.delivered_new_pk', 'broadcast.delivered_games'), ('report.delivered_exceptions_hist', 'report.delivered_new_pk'), ('report.delivered_exceptions_hist', 'base.games'), ('report.exp_access_rules_hist', 'rundown.access_rules_end'), ('report.exp_access_rules_hist', 'broadcast.priority_lists'), ('report.delivered_exceptions_hist', 'report.exp_access_rules_hist'), (None, 'report.delivered_exceptions_hist')]\n",
      "[('report.delivered_new_pk', 'broadcast.delivered_games'), ('rep"
     ]
    },
    {
     "data": {
      "text/html": [
       "<b>limit_output extension: Maximum message size of 10000 exceeded with 15318 characters</b>"
      ]
     },
     "metadata": {},
     "output_type": "display_data"
    }
   ],
   "source": [
    "filepathList = []\n",
    "\n",
    "for file in os.listdir(path=dirpath):\n",
    "    filename,ext =  os.path.splitext(file)\n",
    "    if ext == \".json\":\n",
    "        filepath = os.path.join(dirpath,file)\n",
    "        filepathList.append(filepath)\n",
    "        \n",
    "for filepath in filepathList:\n",
    "    grandTree = encapsulate(filepath)\n",
    "    \n",
    "    tree = ConstructGrantTree(grandTreeList)\n",
    "    print(tree.parent_child_list)\n",
    "    "
   ]
  },
  {
   "cell_type": "code",
   "execution_count": 30,
   "metadata": {},
   "outputs": [
    {
     "data": {
      "text/plain": [
       "[('report.delivered_new_pk', 'broadcast.delivered_games'),\n",
       " ('report.delivered_exceptions_hist', 'report.delivered_new_pk'),\n",
       " ('report.delivered_exceptions_hist', 'base.games'),\n",
       " ('report.exp_access_rules_hist', 'rundown.access_rules_end'),\n",
       " ('report.exp_access_rules_hist', 'broadcast.priority_lists'),\n",
       " ('report.delivered_exceptions_hist', 'report.exp_access_rules_hist'),\n",
       " (None, 'report.delivered_exceptions_hist')]"
      ]
     },
     "execution_count": 30,
     "metadata": {},
     "output_type": "execute_result"
    }
   ],
   "source": [
    "# Call the class with the grandTreeList argument\n",
    "tree = ConstructGrantTree(grandTreeList)\n",
    "tree.parent_child_list"
   ]
  },
  {
   "cell_type": "code",
   "execution_count": null,
   "metadata": {},
   "outputs": [],
   "source": []
  }
 ],
 "metadata": {
  "kernelspec": {
   "display_name": "Python 3",
   "language": "python",
   "name": "python3"
  },
  "language_info": {
   "codemirror_mode": {
    "name": "ipython",
    "version": 3
   },
   "file_extension": ".py",
   "mimetype": "text/x-python",
   "name": "python",
   "nbconvert_exporter": "python",
   "pygments_lexer": "ipython3",
   "version": "3.6.8"
  }
 },
 "nbformat": 4,
 "nbformat_minor": 2
}
