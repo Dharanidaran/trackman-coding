{
 "cells": [
  {
   "cell_type": "code",
   "execution_count": 1,
   "metadata": {},
   "outputs": [],
   "source": [
    "import json\n",
    "import re\n",
    "import os\n",
    "from graphviz import Graph\n"
   ]
  },
  {
   "cell_type": "markdown",
   "metadata": {},
   "source": [
    "### Listing the top 10 files in the directory tables"
   ]
  },
  {
   "cell_type": "code",
   "execution_count": 11,
   "metadata": {},
   "outputs": [],
   "source": [
    "dirpath = os.path.join( os.getcwd() , \"tables\")\n",
    "filepath = os.path.join(dirpath,'report.mlb_orgs.json')\n",
    "\n"
   ]
  },
  {
   "cell_type": "code",
   "execution_count": 17,
   "metadata": {},
   "outputs": [
    {
     "name": "stdout",
     "output_type": "stream",
     "text": [
      "{'broadcast.delivered_games': []}\n",
      "{'report.delivered_new_pk': ['broadcast.delivered_games']}\n",
      "{'base.games': []}\n",
      "{'rundown.access_rules_end': []}\n",
      "{'broadcast.priority_lists': []}\n",
      "{'report.exp_access_rules_hist': ['rundown.access_rules_end', 'broadcast.priority_lists']}\n",
      "{'report.delivered_exceptions_hist': ['report.delivered_new_pk', 'base.games', 'report.exp_access_rules_hist']}\n"
     ]
    }
   ],
   "source": [
    "grandTreeList = []\n",
    "def constructTreeList(filepath):\n",
    "    branches = createBranch(filepath) \n",
    "    for key,tables in branches.items():\n",
    "        for table in tables:\n",
    "            constructTreeList(getFilePath(table))\n",
    "    grandTreeList.append(branches)\n",
    "constructTreeList(filepath)\n",
    "for item in grandTreeList:\n",
    "    print(item)\n"
   ]
  },
  {
   "cell_type": "code",
   "execution_count": 19,
   "metadata": {},
   "outputs": [
    {
     "name": "stdout",
     "output_type": "stream",
     "text": [
      "[('report.delivered_new_pk', 'broadcast.delivered_games'), ('report.delivered_exceptions_hist', 'report.delivered_new_pk'), ('report.delivered_exceptions_hist', 'base.games'), ('report.exp_access_rules_hist', 'rundown.access_rules_end'), ('report.exp_access_rules_hist', 'broadcast.priority_lists'), ('report.delivered_exceptions_hist', 'report.exp_access_rules_hist'), (None, 'report.delivered_exceptions_hist')]\n"
     ]
    }
   ],
   "source": [
    "class ConstructGrantTree:\n",
    "    def __init__(self,grandTreeList):\n",
    "        self.treeDict = {}\n",
    "        self.branches = []\n",
    "        self.leaves = [] \n",
    "        self.allNodes = []\n",
    "        self.treeList = grandTreeList\n",
    "        self.parent_child_list=[]\n",
    "        self.rootNode = None\n",
    "        self.removeLeafNodes()\n",
    "        self.getParentChildList()       \n",
    "     \n",
    "    def getParentChildList(self):\n",
    "        for node in self.allNodes:\n",
    "            self.parent_child_list.append(self.getMyParent(node))\n",
    "        self.getRootNode()\n",
    "\n",
    "                    \n",
    "    def getRootNode(self):\n",
    "        for parent,item in self.parent_child_list:\n",
    "            if parent == None:\n",
    "                self.rootNode = item\n",
    "    \n",
    "    def removeLeafNodes(self):\n",
    "        for dictionary in self.treeList:\n",
    "            for key,values in dictionary.items():\n",
    "                if values:\n",
    "                    self.branches.append(key)\n",
    "                    self.allNodes.append(key)\n",
    "                else :\n",
    "                    self.leaves.append(key)\n",
    "                    self.allNodes.append(key)\n",
    "                    \n",
    "    def getMyParent(self,node):\n",
    "        parent = None\n",
    "        for dictionary in self.treeList:\n",
    "            for key,values in dictionary.items():\n",
    "                if node in values:\n",
    "                    parent = key\n",
    "        return (parent,node)\n",
    "    \n",
    "tree = ConstructGrantTree(grandTreeList)\n",
    "print(tree.parent_child_list)\n"
   ]
  },
  {
   "cell_type": "code",
   "execution_count": null,
   "metadata": {},
   "outputs": [],
   "source": [
    "allNodes"
   ]
  },
  {
   "cell_type": "code",
   "execution_count": null,
   "metadata": {},
   "outputs": [],
   "source": []
  }
 ],
 "metadata": {
  "kernelspec": {
   "display_name": "Python 3",
   "language": "python",
   "name": "python3"
  },
  "language_info": {
   "codemirror_mode": {
    "name": "ipython",
    "version": 3
   },
   "file_extension": ".py",
   "mimetype": "text/x-python",
   "name": "python",
   "nbconvert_exporter": "python",
   "pygments_lexer": "ipython3",
   "version": "3.6.8"
  }
 },
 "nbformat": 4,
 "nbformat_minor": 2
}
