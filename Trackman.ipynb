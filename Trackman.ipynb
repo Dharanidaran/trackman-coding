{
 "cells": [
  {
   "cell_type": "code",
   "execution_count": 293,
   "metadata": {},
   "outputs": [],
   "source": [
    "import json\n",
    "import re\n",
    "try:  \n",
    "    from asciitree import LeftAligned\n",
    "    from collections import OrderedDict as OD\n",
    "except ModuleNotFoundError:\n",
    "    print(\"Error -- Use the requirement.txt to install the dependencies\")"
   ]
  },
  {
   "cell_type": "markdown",
   "metadata": {},
   "source": [
    "### Listing the top 10 files in the directory tables"
   ]
  },
  {
   "cell_type": "code",
   "execution_count": 187,
   "metadata": {},
   "outputs": [
    {
     "name": "stdout",
     "output_type": "stream",
     "text": [
      "crosscheck.games\n",
      "crosscheck.calibration_maintenance\n",
      "crosscheck.tags\n",
      "games.metadata\n",
      "games.vision\n",
      "games.oem\n",
      "games.vision_oem\n",
      "games.autorecalibration\n",
      "games.latency\n",
      "games.live_final\n",
      "games.nulls\n",
      "locations.latency\n",
      "locations.vision_oem\n",
      "report.scheduled_no_exceptions_hist\n",
      "report.hardball_pitchers\n",
      "report.delivered_new_pk\n",
      "report.delivered_exceptions_hist\n",
      "report.verified_levels_18\n",
      "report.delivered_no_exceptions\n",
      "report.delivered_combined_hist\n",
      "report.practice_pitching\n",
      "report.false_delivered_hist\n",
      "report.mlb_orgs\n",
      "report.schedule_new_level\n",
      "report.scheduled_no_exceptions\n",
      "report.exp_access_rules_hist\n",
      "report.delivered_no_exceptions_hist\n",
      "report.scheduled_combined\n",
      "report.practice_pitching_dev\n",
      "report.exp_access_rules\n",
      "report.scheduled_exceptions\n",
      "rundown.access_rules_history\n",
      "rundown.location_history\n",
      "rundown.access_rules_rows\n",
      "rundown.location_history_rows\n",
      "scout.tags\n",
      "trout.app_angle\n"
     ]
    }
   ],
   "source": [
    "dirpath = os.path.join( os.getcwd() , \"tables\")\n",
    "files = os.listdir(path=dirpath)[:]\n",
    "\n",
    "schema_table= []\n",
    "for file in files:\n",
    "    schema_table.append ((file.split(\".\")[0],file.split(\".\")[1]))\n",
    "schema_table.sort(key=lambda x: x[0])\n",
    "    \n",
    "\n",
    "\n",
    "\n"
   ]
  },
  {
   "cell_type": "code",
   "execution_count": 199,
   "metadata": {},
   "outputs": [],
   "source": [
    "def getTheFromClauseText(filepath):\n",
    "    try:\n",
    "        fileObj = open(filepath)\n",
    "        config_dict = json.load(fileObj)\n",
    "        from_text = None\n",
    "        try:\n",
    "            # Fetch the from clause\n",
    "            from_text = config_dict[\"query\"][\"L\"][0][\"M\"][\"from\"][\"S\"] # For query with list\n",
    "        except:\n",
    "            try:\n",
    "                from_text = config_dict[\"query\"][\"M\"][\"from\"][\"S\"] # Single query without list\n",
    "            except:\n",
    "                # Do nothing if this fails too, and return from_text as None\n",
    "                pass\n",
    "        fileObj.close()\n",
    "        return from_text\n",
    "    except FileNotFoundError:\n",
    "        return None\n"
   ]
  },
  {
   "cell_type": "markdown",
   "metadata": {},
   "source": [
    "## Loop to get all the text "
   ]
  },
  {
   "cell_type": "code",
   "execution_count": 166,
   "metadata": {},
   "outputs": [],
   "source": [
    "# for file in os.listdir(path=dirpath):\n",
    "#     filepath = os.path.join(dirpath,file)\n",
    "#     from_text = getTheFromClauseText(filepath)\n",
    "#     print(from_text)\n",
    "#     print(\"\\n\\n\\n\")\n",
    "    \n"
   ]
  },
  {
   "cell_type": "code",
   "execution_count": 201,
   "metadata": {},
   "outputs": [
    {
     "name": "stdout",
     "output_type": "stream",
     "text": [
      "report.schedule_new_level\n"
     ]
    }
   ],
   "source": [
    "def getTheFirstSource(from_text):\n",
    "    if from_text != None:\n",
    "        p = re.compile(r\"\"\"\n",
    "            (?P<starting>\\w+[.]\\w+) # Get the starting text    \n",
    "            \"\"\", re.VERBOSE)\n",
    "        m = p.search(from_text)\n",
    "        return(m.group('starting'))\n",
    "    else:\n",
    "        return None\n",
    "        \n",
    "\n",
    "from_text = \"report.schedule_new_level s left join games.metadata g on s.game_id = g.game_id left join report.exp_access_rules_hist a on (a.level is null or a.level = s.level_name) and (a.location is null or s.location_id = a.location) and (a.team is null or s.home_team_id = a.team)\"\n",
    "print(getTheFirstSource(from_text))"
   ]
  },
  {
   "cell_type": "code",
   "execution_count": 202,
   "metadata": {},
   "outputs": [
    {
     "name": "stdout",
     "output_type": "stream",
     "text": [
      "['games.metadata', 'report.exp_access_rules_hist']\n"
     ]
    }
   ],
   "source": [
    "def getTheJoinTablesList(from_text):\n",
    "    if from_text !=None:\n",
    "        p = re.compile(r\"\"\"\n",
    "        join\\s+(?P<table>\\w+[.]\\w+)\n",
    "        \"\"\", re.VERBOSE)\n",
    "        m = p.findall(from_text)\n",
    "        return m\n",
    "    else:\n",
    "        return None\n",
    "from_text = \"report.schedule_new_level s left join games.metadata g on s.game_id = g.game_id left join report.exp_access_rules_hist a on (a.level is null or a.level = s.level_name) and (a.location is null or s.location_id = a.location) and (a.team is null or s.home_team_id = a.team)\"\n",
    "print(getTheJoinTablesList(from_text))\n",
    "\n"
   ]
  },
  {
   "cell_type": "code",
   "execution_count": 220,
   "metadata": {},
   "outputs": [
    {
     "name": "stdout",
     "output_type": "stream",
     "text": [
      "crosscheck.tags t\n"
     ]
    }
   ],
   "source": [
    "filepath = os.path.join(dirpath,'games.nulls.json')\n",
    "from_text = getTheFromClauseText(filepath)\n",
    "\n",
    "print(from_text)\n",
    "\n",
    "\n",
    "\n",
    "# filepath = os.path.join(dirpath,'base.games.json')\n",
    "# from_text = getTheFromClauseText(filepath)\n",
    "# print(from_text)\n"
   ]
  },
  {
   "cell_type": "code",
   "execution_count": 353,
   "metadata": {},
   "outputs": [
    {
     "name": "stdout",
     "output_type": "stream",
     "text": [
      "report.hardball_pitchers\n",
      " +-- scout.tags\n",
      " +-- base.measurements\n",
      " +-- base.games\n"
     ]
    }
   ],
   "source": [
    "class CreateBranch:\n",
    "    def __init__(self,filepath):\n",
    "        self.parentNode = None\n",
    "        self.from_text= None\n",
    "        self.tables_list = []\n",
    "        self.tree_dict = {}  \n",
    "        self.starting_source = None\n",
    "        self.joining_source= None   \n",
    "        \n",
    "        self.getParentNode(filepath)\n",
    "        self.getTheFromClauseText(filepath)\n",
    "        self.getTheFirstSource()\n",
    "        self.getTheJoinTablesList()\n",
    "        self.consolidateTableList()\n",
    "        self.construct_tree()\n",
    "        \n",
    "    def getParentNode(self,filepath):\n",
    "        file_exists = os.path.isfile(filepath)\n",
    "        \n",
    "        if file_exists:\n",
    "            self.parentNode = \".\".join(os.path.basename(filepath).split(\".\")[:-1])\n",
    "        else:\n",
    "            print(\"File path doesnot exists\")\n",
    "            \n",
    "        \n",
    "    \n",
    "    def construct_tree(self):\n",
    "        t_list=[]\n",
    "        for i in self.tables_list:\n",
    "            t_list.append((i,{}))\n",
    "        self.tree_dict[self.parentNode] = OD(t_list)\n",
    "        tr = LeftAligned()\n",
    "        print(tr(self.tree_dict))\n",
    "    \n",
    "    \n",
    "    def getTheFromClauseText(self,filepath):\n",
    "        try:\n",
    "            fileObj = open(filepath)\n",
    "            config_dict = json.load(fileObj)\n",
    "            try:\n",
    "                # Fetch the from clause\n",
    "                self.from_text = config_dict[\"query\"][\"L\"][0][\"M\"][\"from\"][\"S\"] # For query with list\n",
    "            except:\n",
    "                try:\n",
    "                    self.from_text = config_dict[\"query\"][\"M\"][\"from\"][\"S\"] # Single query without list\n",
    "                except:\n",
    "                    # Do nothing if this fails too, and return from_text as None\n",
    "                    pass\n",
    "            fileObj.close()\n",
    "        except FileNotFoundError:\n",
    "            return None\n",
    "        \n",
    "    def getTheFirstSource(self):\n",
    "        \n",
    "        if self.from_text != None:\n",
    "\n",
    "            p = re.compile(r\"\"\"\n",
    "                (?P<starting>\\w+[.]\\w+) # Get the starting text    \n",
    "                \"\"\", re.VERBOSE)\n",
    "            \n",
    "            m = p.search(self.from_text)\n",
    "            self.starting_source = m.group('starting')\n",
    "            \n",
    "    def getTheJoinTablesList(self):\n",
    "        if self.from_text !=None:\n",
    "            p = re.compile(r\"\"\"\n",
    "            join\\s+(?P<table>\\w+[.]\\w+)\n",
    "            \"\"\", re.VERBOSE)\n",
    "            self.joining_source = p.findall(self.from_text)\n",
    "            \n",
    "    def consolidateTableList(self):\n",
    "        self.tables_list.append(self.starting_source)\n",
    "        self.tables_list= self.tables_list + self.joining_source\n",
    "        \n",
    "            \n",
    "filepath = os.path.join(dirpath,'report.hardball_pitchers.json')\n",
    "\n",
    "c = CreateBranch(filepath)\n"
   ]
  },
  {
   "cell_type": "code",
   "execution_count": 354,
   "metadata": {},
   "outputs": [
    {
     "data": {
      "text/plain": [
       "{'report.hardball_pitchers': OrderedDict([('scout.tags', {}),\n",
       "              ('base.measurements', {}),\n",
       "              ('base.games', {})])}"
      ]
     },
     "execution_count": 354,
     "metadata": {},
     "output_type": "execute_result"
    }
   ],
   "source": [
    "c.tree_dict"
   ]
  },
  {
   "cell_type": "code",
   "execution_count": 355,
   "metadata": {},
   "outputs": [
    {
     "data": {
      "text/plain": [
       "['scout.tags', 'base.measurements', 'base.games']"
      ]
     },
     "execution_count": 355,
     "metadata": {},
     "output_type": "execute_result"
    }
   ],
   "source": [
    "c.tables_list"
   ]
  },
  {
   "cell_type": "code",
   "execution_count": 356,
   "metadata": {},
   "outputs": [
    {
     "data": {
      "text/plain": [
       "'report.hardball_pitchers'"
      ]
     },
     "execution_count": 356,
     "metadata": {},
     "output_type": "execute_result"
    }
   ],
   "source": [
    "c.parentNode"
   ]
  },
  {
   "cell_type": "code",
   "execution_count": 357,
   "metadata": {},
   "outputs": [
    {
     "data": {
      "text/plain": [
       "{'report.hardball_pitchers': OrderedDict([('scout.tags', {}),\n",
       "              ('base.measurements', {}),\n",
       "              ('base.games', {})])}"
      ]
     },
     "execution_count": 357,
     "metadata": {},
     "output_type": "execute_result"
    }
   ],
   "source": [
    "c.tree_dict"
   ]
  },
  {
   "cell_type": "code",
   "execution_count": 280,
   "metadata": {},
   "outputs": [
    {
     "data": {
      "text/plain": [
       "[]"
      ]
     },
     "execution_count": 280,
     "metadata": {},
     "output_type": "execute_result"
    }
   ],
   "source": [
    "runLoop = True \n",
    "while runLoop:\n",
    "    \n",
    "    c = CreateBranch(filepath)\n",
    "    \n",
    "    for filename in c.tree_dict"
   ]
  },
  {
   "cell_type": "code",
   "execution_count": 263,
   "metadata": {},
   "outputs": [
    {
     "ename": "AttributeError",
     "evalue": "'CreateBranch' object has no attribute 'current_schema_table'",
     "output_type": "error",
     "traceback": [
      "\u001b[0;31m---------------------------------------------------------------------------\u001b[0m",
      "\u001b[0;31mAttributeError\u001b[0m                            Traceback (most recent call last)",
      "\u001b[0;32m<ipython-input-263-d566a9608586>\u001b[0m in \u001b[0;36m<module>\u001b[0;34m\u001b[0m\n\u001b[0;32m----> 1\u001b[0;31m \u001b[0mv\u001b[0m\u001b[0;34m.\u001b[0m\u001b[0mcurrent_schema_table\u001b[0m\u001b[0;34m\u001b[0m\u001b[0;34m\u001b[0m\u001b[0m\n\u001b[0m",
      "\u001b[0;31mAttributeError\u001b[0m: 'CreateBranch' object has no attribute 'current_schema_table'"
     ]
    }
   ],
   "source": []
  },
  {
   "cell_type": "code",
   "execution_count": 257,
   "metadata": {},
   "outputs": [
    {
     "data": {
      "text/plain": [
       "[]"
      ]
     },
     "execution_count": 257,
     "metadata": {},
     "output_type": "execute_result"
    }
   ],
   "source": [
    "v.tables_list"
   ]
  },
  {
   "cell_type": "code",
   "execution_count": null,
   "metadata": {},
   "outputs": [],
   "source": []
  }
 ],
 "metadata": {
  "kernelspec": {
   "display_name": "Python 3",
   "language": "python",
   "name": "python3"
  },
  "language_info": {
   "codemirror_mode": {
    "name": "ipython",
    "version": 3
   },
   "file_extension": ".py",
   "mimetype": "text/x-python",
   "name": "python",
   "nbconvert_exporter": "python",
   "pygments_lexer": "ipython3",
   "version": "3.6.8"
  }
 },
 "nbformat": 4,
 "nbformat_minor": 2
}
